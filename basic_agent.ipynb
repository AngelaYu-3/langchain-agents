{
 "cells": [
  {
   "cell_type": "markdown",
   "id": "fe0f792b-bc5c-46c5-8acb-c15e11039ef9",
   "metadata": {},
   "source": [
    "### environment setup (langsmith and tavily)"
   ]
  },
  {
   "cell_type": "code",
   "execution_count": 20,
   "id": "681d6095-b532-40e9-8996-3413c1111307",
   "metadata": {},
   "outputs": [
    {
     "name": "stdout",
     "output_type": "stream",
     "text": [
      ".env file created successfully\n"
     ]
    }
   ],
   "source": [
    "env_content = \"\"\"LANGSMITH_API_KEY=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\n",
    "TAVILY_API_KEY=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\"\"\"\n",
    "\n",
    "with open('.env', 'w') as f:\n",
    "    f.write(env_content)\n",
    "\n",
    "print(\".env file created successfully!\")"
   ]
  },
  {
   "cell_type": "code",
   "execution_count": 24,
   "id": "50ea324e-f5af-4db4-8a51-4794743dcdba",
   "metadata": {},
   "outputs": [
    {
     "name": "stdout",
     "output_type": "stream",
     "text": [
      ".env\n"
     ]
    }
   ],
   "source": [
    "!echo \".env\" >> .gitignore\n",
    "!cat .gitignore "
   ]
  },
  {
   "cell_type": "code",
   "execution_count": 21,
   "id": "7694c74e-d286-49bf-96fd-62a141f8ad39",
   "metadata": {},
   "outputs": [
    {
     "name": "stdout",
     "output_type": "stream",
     "text": [
      "All environment variables with 'LANG' or 'TAVILY':\n",
      "LANG: en_US.UTF-...\n",
      "LANGSMITH_API_KEY: lsv2_pt_68...\n",
      "TAVILY_API_KEY: tvly-dev-j...\n",
      "\n",
      "LangSmith key exists: True\n",
      "Tavily key exists: True\n",
      "\n",
      ".env file contents:\n",
      "LANGSMITH_API_KEY=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\n",
      "TAVILY_API_KEY=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\n",
      "LangSmith API Key loaded: True\n",
      "Tavily API Key loaded: True\n",
      "LangSmith key starts with: lsv2_pt_68...\n",
      "Tavily key starts with: tvly-dev-j...\n"
     ]
    }
   ],
   "source": [
    "from dotenv import load_dotenv\n",
    "import os\n",
    "\n",
    "load_dotenv(override = True)\n",
    "\n",
    "from dotenv import load_dotenv\n",
    "import os\n",
    "\n",
    "# Load the .env file\n",
    "load_dotenv()\n",
    "\n",
    "# Check what's actually in the environment\n",
    "print(\"All environment variables with 'LANG' or 'TAVILY':\")\n",
    "for key, value in os.environ.items():\n",
    "    if 'LANG' in key.upper() or 'TAVILY' in key.upper():\n",
    "        print(f\"{key}: {value[:10]}...\")\n",
    "\n",
    "# Check specifically for our keys\n",
    "langsmith_key = os.environ.get(\"LANGSMITH_API_KEY\")\n",
    "tavily_key = os.environ.get(\"TAVILY_API_KEY\")\n",
    "\n",
    "print(f\"\\nLangSmith key exists: {langsmith_key is not None}\")\n",
    "print(f\"Tavily key exists: {tavily_key is not None}\")\n",
    "\n",
    "# Check if .env file exists and what's in it\n",
    "try:\n",
    "    with open('.env', 'r') as f:\n",
    "        print(f\"\\n.env file contents:\")\n",
    "        print(f.read())\n",
    "except FileNotFoundError:\n",
    "    print(\"\\n.env file not found!\")\n",
    "print(\"LangSmith API Key loaded:\", bool(os.environ.get(\"LANGSMITH_API_KEY\")))\n",
    "print(\"Tavily API Key loaded:\", bool(os.environ.get(\"TAVILY_API_KEY\")))\n",
    "\n",
    "if langsmith_key:\n",
    "    print(f\"LangSmith key starts with: {langsmith_key[:10]}...\")\n",
    "if tavily_key:\n",
    "    print(f\"Tavily key starts with: {tavily_key[:10]}...\")"
   ]
  },
  {
   "cell_type": "code",
   "execution_count": 22,
   "id": "486d7948-e35f-4e95-8200-da2e6f856efa",
   "metadata": {},
   "outputs": [
    {
     "name": "stdout",
     "output_type": "stream",
     "text": [
      "Contents of .env file:\n",
      "LANGSMITH_API_KEY=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\n",
      "TAVILY_API_KEY=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\n"
     ]
    }
   ],
   "source": [
    "try:\n",
    "    with open('.env', 'r') as f:\n",
    "        print(\"Contents of .env file:\")\n",
    "        print(f.read())\n",
    "except FileNotFoundError:\n",
    "    print(\".env file not found\")"
   ]
  },
  {
   "cell_type": "markdown",
   "id": "995b8b32-3327-4c09-a7a9-f75d1fd11827",
   "metadata": {},
   "source": [
    "### defining tools"
   ]
  },
  {
   "cell_type": "code",
   "execution_count": 23,
   "id": "72bd3a9a-9774-47e5-b56d-d2f455e3ebd6",
   "metadata": {},
   "outputs": [
    {
     "name": "stdout",
     "output_type": "stream",
     "text": [
      "{'query': 'What is the weather in SF', 'follow_up_questions': None, 'answer': None, 'images': [], 'results': [{'title': 'Weather in San Francisco', 'url': 'https://www.weatherapi.com/', 'content': \"{'location': {'name': 'San Francisco', 'region': 'California', 'country': 'United States of America', 'lat': 37.775, 'lon': -122.4183, 'tz_id': 'America/Los_Angeles', 'localtime_epoch': 1750874206, 'localtime': '2025-06-25 10:56'}, 'current': {'last_updated_epoch': 1750873500, 'last_updated': '2025-06-25 10:45', 'temp_c': 13.9, 'temp_f': 57.0, 'is_day': 1, 'condition': {'text': 'Overcast', 'icon': '//cdn.weatherapi.com/weather/64x64/day/122.png', 'code': 1009}, 'wind_mph': 6.7, 'wind_kph': 10.8, 'wind_degree': 226, 'wind_dir': 'SW', 'pressure_mb': 1018.0, 'pressure_in': 30.06, 'precip_mm': 0.0, 'precip_in': 0.0, 'humidity': 81, 'cloud': 100, 'feelslike_c': 13.2, 'feelslike_f': 55.7, 'windchill_c': 10.4, 'windchill_f': 50.7, 'heatindex_c': 11.6, 'heatindex_f': 52.8, 'dewpoint_c': 10.6, 'dewpoint_f': 51.1, 'vis_km': 16.0, 'vis_miles': 9.0, 'uv': 4.3, 'gust_mph': 8.1, 'gust_kph': 13.0}}\", 'score': 0.9609023, 'raw_content': None}, {'title': 'Weather in San Francisco in June 2025', 'url': 'https://world-weather.info/forecast/usa/san_francisco/june-2025/', 'content': \"Weather in San Francisco in June 2025 (California) - Detailed Weather Forecast for a Month *   Weather in San Francisco Weather in San Francisco in June 2025 *   1 +63° +55° *   2 +66° +54° *   3 +66° +55° *   4 +66° +54° *   5 +66° +55° *   6 +66° +57° *   7 +64° +55° *   8 +63° +55° *   9 +63° +54° *   10 +59° +54° *   11 +59° +54° *   12 +61° +54° *   13 +63° +54° Weather in Washington, D.C.**+75°** Redwood City**+59°** San Leandro**+57°** San Mateo**+55°** San Rafael**+59°** San Ramon**+55°** South San Francisco**+55°** Pacifica**+52°** Daly City**+54°** world's temperature today Goulburn day+50°F night+23°F Rustaq day+117°F night+93°F Weather forecast on your site Install _San Francisco_ +55° Temperature units\", 'score': 0.8832463, 'raw_content': None}], 'response_time': 1.67}\n"
     ]
    }
   ],
   "source": [
    "from langchain_tavily import TavilySearch\n",
    "\n",
    "search = TavilySearch(max_results=2)\n",
    "search_results = search.invoke(\"What is the weather in SF\")\n",
    "print(search_results)\n",
    "\n",
    "# If we want, we can create other tools.\n",
    "# Once we have all the tools we want, we can put them in a list that we will reference later.\n",
    "tools = [search]"
   ]
  },
  {
   "cell_type": "markdown",
   "id": "e77862e0-aff4-4a4b-a1a4-7f4dcf6fd315",
   "metadata": {},
   "source": [
    "### using language models"
   ]
  },
  {
   "cell_type": "code",
   "execution_count": null,
   "id": "f216c12f-8f9f-4353-a960-5ba7681d693f",
   "metadata": {},
   "outputs": [],
   "source": []
  }
 ],
 "metadata": {
  "kernelspec": {
   "display_name": "Python (lang-agent)",
   "language": "python",
   "name": "lang-agent"
  },
  "language_info": {
   "codemirror_mode": {
    "name": "ipython",
    "version": 3
   },
   "file_extension": ".py",
   "mimetype": "text/x-python",
   "name": "python",
   "nbconvert_exporter": "python",
   "pygments_lexer": "ipython3",
   "version": "3.11.13"
  }
 },
 "nbformat": 4,
 "nbformat_minor": 5
}
