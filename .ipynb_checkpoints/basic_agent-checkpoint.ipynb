{
 "cells": [
  {
   "cell_type": "code",
   "execution_count": 1,
   "id": "16e5952c-6e51-4ee8-b639-b3f27f48c8ac",
   "metadata": {},
   "outputs": [
    {
     "name": "stdout",
     "output_type": "stream",
     "text": [
      "Python executable: /opt/anaconda3/envs/lang-agent/bin/python\n",
      "Python version: 3.11.13 (main, Jun  5 2025, 08:21:08) [Clang 14.0.6 ]\n"
     ]
    }
   ],
   "source": [
    "import sys\n",
    "print(\"Python executable:\", sys.executable)\n",
    "print(\"Python version:\", sys.version)\n",
    "\n",
    "try:\n",
    "    import langgraph\n",
    "    from langgraph.graph import Graph\n",
    "    print(\"langgraph working!\")\n",
    "except ImportError as e:\n",
    "    print(\"langgraph issue:\", e)\n",
    "\n",
    "try:\n",
    "    import langchain_tavily\n",
    "    print(\"langchain_tavily working!\")\n",
    "except ImportError as e:\n",
    "    print(\"❌ langchain_tavily issue:\", e)\n",
    "\n",
    "try:\n",
    "    from langgraph.checkpoint.sqlite import SqliteSaver\n",
    "    print(\"langgraph-checkpoint-sqlite working!\")\n",
    "except ImportError as e:\n",
    "    print(\"❌ langgraph-checkpoint-sqlite issue:\", e)"
   ]
  },
  {
   "cell_type": "code",
   "execution_count": 3,
   "id": "4204d7dd-058b-493d-acc0-08174998297d",
   "metadata": {},
   "outputs": [
    {
     "name": "stdout",
     "output_type": "stream",
     "text": [
      "✅ langgraph working!\n",
      "✅ langchain_tavily working!\n",
      "✅ langgraph-checkpoint-sqlite working!\n"
     ]
    }
   ],
   "source": []
  },
  {
   "cell_type": "code",
   "execution_count": null,
   "id": "7694c74e-d286-49bf-96fd-62a141f8ad39",
   "metadata": {},
   "outputs": [],
   "source": []
  }
 ],
 "metadata": {
  "kernelspec": {
   "display_name": "Python (lang-agent)",
   "language": "python",
   "name": "lang-agent"
  },
  "language_info": {
   "codemirror_mode": {
    "name": "ipython",
    "version": 3
   },
   "file_extension": ".py",
   "mimetype": "text/x-python",
   "name": "python",
   "nbconvert_exporter": "python",
   "pygments_lexer": "ipython3",
   "version": "3.11.13"
  }
 },
 "nbformat": 4,
 "nbformat_minor": 5
}
