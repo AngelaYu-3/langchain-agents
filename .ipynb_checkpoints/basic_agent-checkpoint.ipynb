{
 "cells": [
  {
   "cell_type": "markdown",
   "id": "fe0f792b-bc5c-46c5-8acb-c15e11039ef9",
   "metadata": {},
   "source": [
    "### environment setup (langsmith and tavily)"
   ]
  },
  {
   "cell_type": "code",
   "execution_count": 5,
   "id": "681d6095-b532-40e9-8996-3413c1111307",
   "metadata": {},
   "outputs": [
    {
     "name": "stdout",
     "output_type": "stream",
     "text": [
      ".env file created successfully\n"
     ]
    }
   ],
   "source": [
    "env_content = \"\"\"LANGSMITH_API_KEY=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\n",
    "TAVILY_API_KEY=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\"\"\"\n",
    "\n",
    "with open('.env', 'w') as f:\n",
    "    f.write(env_content)\n",
    "\n",
    "print(\".env file created successfully\")"
   ]
  },
  {
   "cell_type": "code",
   "execution_count": 6,
   "id": "7694c74e-d286-49bf-96fd-62a141f8ad39",
   "metadata": {},
   "outputs": [
    {
     "name": "stdout",
     "output_type": "stream",
     "text": [
      "LangSmith API Key loaded: True\n",
      "Tavily API Key loaded: True\n"
     ]
    }
   ],
   "source": [
    "from dotenv import load_dotenv\n",
    "import os\n",
    "\n",
    "load_dotenv()\n",
    "print(\"LangSmith API Key loaded:\", bool(os.environ.get(\"LANGSMITH_API_KEY\")))\n",
    "print(\"Tavily API Key loaded:\", bool(os.environ.get(\"TAVILY_API_KEY\")))"
   ]
  },
  {
   "cell_type": "code",
   "execution_count": 7,
   "id": "486d7948-e35f-4e95-8200-da2e6f856efa",
   "metadata": {},
   "outputs": [
    {
     "name": "stdout",
     "output_type": "stream",
     "text": [
      "Contents of .env file:\n",
      "LANGSMITH_API_KEY=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\n",
      "TAVILY_API_KEY=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\n"
     ]
    }
   ],
   "source": [
    "try:\n",
    "    with open('.env', 'r') as f:\n",
    "        print(\"Contents of .env file:\")\n",
    "        print(f.read())\n",
    "except FileNotFoundError:\n",
    "    print(\".env file not found\")"
   ]
  },
  {
   "cell_type": "markdown",
   "id": "995b8b32-3327-4c09-a7a9-f75d1fd11827",
   "metadata": {},
   "source": [
    "### defining tools"
   ]
  },
  {
   "cell_type": "code",
   "execution_count": 9,
   "id": "72bd3a9a-9774-47e5-b56d-d2f455e3ebd6",
   "metadata": {},
   "outputs": [
    {
     "name": "stdout",
     "output_type": "stream",
     "text": [
      "{'error': ValueError('Error 401: Unauthorized: missing or invalid API key.')}\n"
     ]
    }
   ],
   "source": [
    "from langchain_tavily import TavilySearch\n",
    "\n",
    "search = TavilySearch(max_results=2)\n",
    "search_results = search.invoke(\"What is the weather in SF\")\n",
    "print(search_results)\n",
    "\n",
    "# If we want, we can create other tools.\n",
    "# Once we have all the tools we want, we can put them in a list that we will reference later.\n",
    "tools = [search]"
   ]
  },
  {
   "cell_type": "markdown",
   "id": "e77862e0-aff4-4a4b-a1a4-7f4dcf6fd315",
   "metadata": {},
   "source": [
    "### using language models"
   ]
  },
  {
   "cell_type": "code",
   "execution_count": null,
   "id": "f216c12f-8f9f-4353-a960-5ba7681d693f",
   "metadata": {},
   "outputs": [],
   "source": []
  }
 ],
 "metadata": {
  "kernelspec": {
   "display_name": "Python (lang-agent)",
   "language": "python",
   "name": "lang-agent"
  },
  "language_info": {
   "codemirror_mode": {
    "name": "ipython",
    "version": 3
   },
   "file_extension": ".py",
   "mimetype": "text/x-python",
   "name": "python",
   "nbconvert_exporter": "python",
   "pygments_lexer": "ipython3",
   "version": "3.11.13"
  }
 },
 "nbformat": 4,
 "nbformat_minor": 5
}
